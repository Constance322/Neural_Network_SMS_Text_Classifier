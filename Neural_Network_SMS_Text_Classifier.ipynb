{
  "nbformat": 4,
  "nbformat_minor": 0,
  "metadata": {
    "colab": {
      "provenance": []
    },
    "kernelspec": {
      "name": "python3",
      "display_name": "Python 3"
    },
    "language_info": {
      "name": "python"
    }
  },
  "cells": [
    {
      "cell_type": "code",
      "source": [
        "import pandas as pd\n",
        "from sklearn.feature_extraction.text import TfidfVectorizer\n",
        "from sklearn.naive_bayes import MultinomialNB\n",
        "from sklearn.pipeline import make_pipeline"
      ],
      "metadata": {
        "id": "3NOGhidr-Z7L"
      },
      "execution_count": 10,
      "outputs": []
    },
    {
      "cell_type": "code",
      "source": [
        "url_train = 'https://raw.githubusercontent.com/rajeevratan84/datascienceforbusiness/master/sms-spam-collection/train-data.tsv'\n",
        "url_test = 'https://raw.githubusercontent.com/rajeevratan84/datascienceforbusiness/master/sms-spam-collection/test-data.tsv'"
      ],
      "metadata": {
        "id": "oZgo1_t9-reL"
      },
      "execution_count": 13,
      "outputs": []
    },
    {
      "cell_type": "code",
      "source": [
        "try:\n",
        "    train_data = pd.read_csv(url_train, sep='\\t', names=['label', 'message'])\n",
        "    test_data = pd.read_csv(url_test, sep='\\t', names=['label', 'message'])\n",
        "    print(\"Data loaded successfully.\")\n",
        "except Exception as e:\n",
        "    print(\"Error loading data:\", e)"
      ],
      "metadata": {
        "colab": {
          "base_uri": "https://localhost:8080/"
        },
        "id": "YxB0rLt4-vq5",
        "outputId": "553b4c45-ac83-4d99-e64d-e7d5d8094b72"
      },
      "execution_count": 14,
      "outputs": [
        {
          "output_type": "stream",
          "name": "stdout",
          "text": [
            "Error loading data: HTTP Error 404: Not Found\n"
          ]
        }
      ]
    },
    {
      "cell_type": "code",
      "source": [
        "model = make_pipeline(TfidfVectorizer(), MultinomialNB())\n"
      ],
      "metadata": {
        "id": "0UdnvbWA-xZJ"
      },
      "execution_count": 15,
      "outputs": []
    },
    {
      "cell_type": "code",
      "source": [
        "def predict_message(message):\n",
        "    prediction = model.predict([message])\n",
        "    probability = model.predict_proba([message])[0]\n",
        "    if prediction[0] == 'ham':\n",
        "        return [probability[0], 'ham']\n",
        "    else:\n",
        "        return [probability[1], 'spam']\n"
      ],
      "metadata": {
        "id": "kRGv36ws-3_x"
      },
      "execution_count": 17,
      "outputs": []
    },
    {
      "cell_type": "code",
      "source": [
        "test_messages = [\"Free coupons available! Claim now.\",\n",
        "                 \"Hey, what's up?\"]"
      ],
      "metadata": {
        "id": "OFl5P-Nl_7-2"
      },
      "execution_count": 21,
      "outputs": []
    }
  ]
}